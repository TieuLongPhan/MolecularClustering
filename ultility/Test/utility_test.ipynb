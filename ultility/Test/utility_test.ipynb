{
 "cells": [
  {
   "cell_type": "code",
   "execution_count": 6,
   "id": "77cd9f2e-d43f-4254-b962-2ad1d7e2922e",
   "metadata": {},
   "outputs": [
    {
     "data": {
      "text/html": [
       "<div>\n",
       "<style scoped>\n",
       "    .dataframe tbody tr th:only-of-type {\n",
       "        vertical-align: middle;\n",
       "    }\n",
       "\n",
       "    .dataframe tbody tr th {\n",
       "        vertical-align: top;\n",
       "    }\n",
       "\n",
       "    .dataframe thead th {\n",
       "        text-align: right;\n",
       "    }\n",
       "</style>\n",
       "<table border=\"1\" class=\"dataframe\">\n",
       "  <thead>\n",
       "    <tr style=\"text-align: right;\">\n",
       "      <th></th>\n",
       "      <th>ID</th>\n",
       "      <th>Canomical_smiles</th>\n",
       "      <th>Activity</th>\n",
       "    </tr>\n",
       "  </thead>\n",
       "  <tbody>\n",
       "    <tr>\n",
       "      <th>0</th>\n",
       "      <td>CHEMBL19464</td>\n",
       "      <td>O=C(O)C(=O)CC(=O)c1cccc(Cc2ccccc2)c1</td>\n",
       "      <td>8.00</td>\n",
       "    </tr>\n",
       "    <tr>\n",
       "      <th>1</th>\n",
       "      <td>CHEMBL193783</td>\n",
       "      <td>CCc1cc(/C=N/CC/N=C/c2cc(CC)sc2S)c(S)s1</td>\n",
       "      <td>5.22</td>\n",
       "    </tr>\n",
       "  </tbody>\n",
       "</table>\n",
       "</div>"
      ],
      "text/plain": [
       "             ID                        Canomical_smiles  Activity\n",
       "0   CHEMBL19464    O=C(O)C(=O)CC(=O)c1cccc(Cc2ccccc2)c1      8.00\n",
       "1  CHEMBL193783  CCc1cc(/C=N/CC/N=C/c2cc(CC)sc2S)c(S)s1      5.22"
      ]
     },
     "execution_count": 6,
     "metadata": {},
     "output_type": "execute_result"
    }
   ],
   "source": [
    "import pandas as pd\n",
    "import numpy as np\n",
    "import os \n",
    "import sys\n",
    "sys.path.append('../')\n",
    "\n",
    "df = pd.read_csv(\"HIV_integrase.csv\", index_col=None)\n",
    "df.head(2)"
   ]
  },
  {
   "cell_type": "markdown",
   "id": "bb702808-d26f-497d-a56e-3757d264f436",
   "metadata": {},
   "source": [
    "# 1. Standardize"
   ]
  },
  {
   "cell_type": "code",
   "execution_count": 7,
   "id": "0f8ef682-54ee-4ec8-a567-6b548f1562d0",
   "metadata": {},
   "outputs": [
    {
     "data": {
      "application/vnd.jupyter.widget-view+json": {
       "model_id": "37ec474aee514c7bb1ffa632efd17ad8",
       "version_major": 2,
       "version_minor": 0
      },
      "text/plain": [
       "  0%|          | 0/2445 [00:00<?, ?it/s]"
      ]
     },
     "metadata": {},
     "output_type": "display_data"
    },
    {
     "data": {
      "application/vnd.jupyter.widget-view+json": {
       "model_id": "ace8307a75fa461d80d6d6a782109261",
       "version_major": 2,
       "version_minor": 0
      },
      "text/plain": [
       "  0%|          | 0/2377 [00:00<?, ?it/s]"
      ]
     },
     "metadata": {},
     "output_type": "display_data"
    },
    {
     "data": {
      "text/html": [
       "<div>\n",
       "<style scoped>\n",
       "    .dataframe tbody tr th:only-of-type {\n",
       "        vertical-align: middle;\n",
       "    }\n",
       "\n",
       "    .dataframe tbody tr th {\n",
       "        vertical-align: top;\n",
       "    }\n",
       "\n",
       "    .dataframe thead th {\n",
       "        text-align: right;\n",
       "    }\n",
       "</style>\n",
       "<table border=\"1\" class=\"dataframe\">\n",
       "  <thead>\n",
       "    <tr style=\"text-align: right;\">\n",
       "      <th></th>\n",
       "      <th>ID</th>\n",
       "      <th>Canomical_smiles</th>\n",
       "      <th>Activity</th>\n",
       "      <th>Canomicalsmiles</th>\n",
       "      <th>Molecule</th>\n",
       "    </tr>\n",
       "  </thead>\n",
       "  <tbody>\n",
       "    <tr>\n",
       "      <th>0</th>\n",
       "      <td>CHEMBL19464</td>\n",
       "      <td>O=C(O)C(=O)CC(=O)c1cccc(Cc2ccccc2)c1</td>\n",
       "      <td>8.00</td>\n",
       "      <td>O=C(O)C(=O)CC(=O)c1cccc(Cc2ccccc2)c1</td>\n",
       "      <td>&lt;rdkit.Chem.rdchem.Mol object at 0x7f068fe025f0&gt;</td>\n",
       "    </tr>\n",
       "    <tr>\n",
       "      <th>1</th>\n",
       "      <td>CHEMBL193783</td>\n",
       "      <td>CCc1cc(/C=N/CC/N=C/c2cc(CC)sc2S)c(S)s1</td>\n",
       "      <td>5.22</td>\n",
       "      <td>CCc1cc(/C=N/CC/N=C/c2cc(CC)sc2S)c(S)s1</td>\n",
       "      <td>&lt;rdkit.Chem.rdchem.Mol object at 0x7f068fe02660&gt;</td>\n",
       "    </tr>\n",
       "  </tbody>\n",
       "</table>\n",
       "</div>"
      ],
      "text/plain": [
       "             ID                        Canomical_smiles  Activity  \\\n",
       "0   CHEMBL19464    O=C(O)C(=O)CC(=O)c1cccc(Cc2ccccc2)c1      8.00   \n",
       "1  CHEMBL193783  CCc1cc(/C=N/CC/N=C/c2cc(CC)sc2S)c(S)s1      5.22   \n",
       "\n",
       "                          Canomicalsmiles  \\\n",
       "0    O=C(O)C(=O)CC(=O)c1cccc(Cc2ccccc2)c1   \n",
       "1  CCc1cc(/C=N/CC/N=C/c2cc(CC)sc2S)c(S)s1   \n",
       "\n",
       "                                           Molecule  \n",
       "0  <rdkit.Chem.rdchem.Mol object at 0x7f068fe025f0>  \n",
       "1  <rdkit.Chem.rdchem.Mol object at 0x7f068fe02660>  "
      ]
     },
     "execution_count": 7,
     "metadata": {},
     "output_type": "execute_result"
    }
   ],
   "source": [
    "from standardize import standardization\n",
    "from rdkit.rdBase import BlockLogs\n",
    "block = BlockLogs()\n",
    "std = standardization(data=df,ID='ID', smiles_col='Canomical_smiles', active_col='Activity', ro5 =4)\n",
    "data = std.filter_data()\n",
    "data.head(2)"
   ]
  },
  {
   "cell_type": "markdown",
   "id": "c5ba18af-4673-4dcd-865a-521440334da0",
   "metadata": {},
   "source": [
    "# 2. Medicinal chemistry filter"
   ]
  },
  {
   "cell_type": "code",
   "execution_count": 8,
   "id": "6c351516-0c1c-42d9-8ddb-81f58ad75c96",
   "metadata": {},
   "outputs": [
    {
     "data": {
      "application/vnd.jupyter.widget-view+json": {
       "model_id": "cf604d5f200b43dba462f24d52a8a69e",
       "version_major": 2,
       "version_minor": 0
      },
      "text/plain": [
       "  0%|          | 0/2445 [00:00<?, ?it/s]"
      ]
     },
     "metadata": {},
     "output_type": "display_data"
    },
    {
     "data": {
      "text/html": [
       "<div>\n",
       "<style scoped>\n",
       "    .dataframe tbody tr th:only-of-type {\n",
       "        vertical-align: middle;\n",
       "    }\n",
       "\n",
       "    .dataframe tbody tr th {\n",
       "        vertical-align: top;\n",
       "    }\n",
       "\n",
       "    .dataframe thead th {\n",
       "        text-align: right;\n",
       "    }\n",
       "</style>\n",
       "<table border=\"1\" class=\"dataframe\">\n",
       "  <thead>\n",
       "    <tr style=\"text-align: right;\">\n",
       "      <th></th>\n",
       "      <th>ro5_rule</th>\n",
       "      <th>pfizer_rule</th>\n",
       "      <th>gsk_rule</th>\n",
       "      <th>goldentriangle_rule</th>\n",
       "      <th>qed</th>\n",
       "      <th>qed_excellent</th>\n",
       "      <th>sascore</th>\n",
       "      <th>sascore_excellent</th>\n",
       "      <th>fsp3</th>\n",
       "      <th>fsp3_excellent</th>\n",
       "      <th>...</th>\n",
       "      <th>pains_matched_atoms</th>\n",
       "      <th>alarmnmr_accepted</th>\n",
       "      <th>alarmnmr_matched_names</th>\n",
       "      <th>alarmnmr_matched_atoms</th>\n",
       "      <th>bms_accepted</th>\n",
       "      <th>bms_matched_names</th>\n",
       "      <th>bms_matched_atoms</th>\n",
       "      <th>chelator_accepted</th>\n",
       "      <th>chelator_matched_names</th>\n",
       "      <th>chelator_matched_atoms</th>\n",
       "    </tr>\n",
       "  </thead>\n",
       "  <tbody>\n",
       "    <tr>\n",
       "      <th>0</th>\n",
       "      <td>True</td>\n",
       "      <td>False</td>\n",
       "      <td>True</td>\n",
       "      <td>True</td>\n",
       "      <td>0.501767</td>\n",
       "      <td>False</td>\n",
       "      <td>1.891632</td>\n",
       "      <td>True</td>\n",
       "      <td>0.117647</td>\n",
       "      <td>False</td>\n",
       "      <td>...</td>\n",
       "      <td>[-]</td>\n",
       "      <td>True</td>\n",
       "      <td>[-]</td>\n",
       "      <td>[-]</td>\n",
       "      <td>False</td>\n",
       "      <td>[alpha_dicarbonyl]</td>\n",
       "      <td>[((1, 0, 3, 4),)]</td>\n",
       "      <td>True</td>\n",
       "      <td>[-]</td>\n",
       "      <td>[-]</td>\n",
       "    </tr>\n",
       "    <tr>\n",
       "      <th>1</th>\n",
       "      <td>True</td>\n",
       "      <td>True</td>\n",
       "      <td>False</td>\n",
       "      <td>False</td>\n",
       "      <td>0.388315</td>\n",
       "      <td>False</td>\n",
       "      <td>4.020579</td>\n",
       "      <td>True</td>\n",
       "      <td>0.375000</td>\n",
       "      <td>False</td>\n",
       "      <td>...</td>\n",
       "      <td>[-]</td>\n",
       "      <td>False</td>\n",
       "      <td>[[SH], SCS, c1sccc1]</td>\n",
       "      <td>[((17, 18), (19, 20)), ((16, 17, 18), (20, 19,...</td>\n",
       "      <td>True</td>\n",
       "      <td>[-]</td>\n",
       "      <td>[-]</td>\n",
       "      <td>True</td>\n",
       "      <td>[-]</td>\n",
       "      <td>[-]</td>\n",
       "    </tr>\n",
       "    <tr>\n",
       "      <th>2</th>\n",
       "      <td>False</td>\n",
       "      <td>False</td>\n",
       "      <td>False</td>\n",
       "      <td>False</td>\n",
       "      <td>0.229178</td>\n",
       "      <td>False</td>\n",
       "      <td>2.504230</td>\n",
       "      <td>True</td>\n",
       "      <td>0.160000</td>\n",
       "      <td>False</td>\n",
       "      <td>...</td>\n",
       "      <td>[-]</td>\n",
       "      <td>False</td>\n",
       "      <td>[C=NN]</td>\n",
       "      <td>[((16, 17, 18),)]</td>\n",
       "      <td>False</td>\n",
       "      <td>[alpha_dicarbonyl]</td>\n",
       "      <td>[((6, 7, 8, 9), (19, 20, 21, 22))]</td>\n",
       "      <td>True</td>\n",
       "      <td>[-]</td>\n",
       "      <td>[-]</td>\n",
       "    </tr>\n",
       "    <tr>\n",
       "      <th>3</th>\n",
       "      <td>True</td>\n",
       "      <td>False</td>\n",
       "      <td>False</td>\n",
       "      <td>False</td>\n",
       "      <td>0.278585</td>\n",
       "      <td>False</td>\n",
       "      <td>2.224255</td>\n",
       "      <td>True</td>\n",
       "      <td>0.037037</td>\n",
       "      <td>False</td>\n",
       "      <td>...</td>\n",
       "      <td>[-]</td>\n",
       "      <td>False</td>\n",
       "      <td>[c1ccccc1O, [OH]c1ccccc1N]</td>\n",
       "      <td>[((12, 11, 10, 9, 8, 24, 13), (27, 26, 25, 6, ...</td>\n",
       "      <td>True</td>\n",
       "      <td>[-]</td>\n",
       "      <td>[-]</td>\n",
       "      <td>True</td>\n",
       "      <td>[-]</td>\n",
       "      <td>[-]</td>\n",
       "    </tr>\n",
       "    <tr>\n",
       "      <th>4</th>\n",
       "      <td>True</td>\n",
       "      <td>False</td>\n",
       "      <td>False</td>\n",
       "      <td>True</td>\n",
       "      <td>0.382177</td>\n",
       "      <td>False</td>\n",
       "      <td>2.345639</td>\n",
       "      <td>True</td>\n",
       "      <td>0.181818</td>\n",
       "      <td>False</td>\n",
       "      <td>...</td>\n",
       "      <td>[-]</td>\n",
       "      <td>True</td>\n",
       "      <td>[-]</td>\n",
       "      <td>[-]</td>\n",
       "      <td>False</td>\n",
       "      <td>[alpha_dicarbonyl]</td>\n",
       "      <td>[((1, 0, 23, 24), (11, 12, 13, 14))]</td>\n",
       "      <td>True</td>\n",
       "      <td>[-]</td>\n",
       "      <td>[-]</td>\n",
       "    </tr>\n",
       "  </tbody>\n",
       "</table>\n",
       "<p>5 rows × 25 columns</p>\n",
       "</div>"
      ],
      "text/plain": [
       "   ro5_rule  pfizer_rule  gsk_rule  goldentriangle_rule       qed  \\\n",
       "0      True        False      True                 True  0.501767   \n",
       "1      True         True     False                False  0.388315   \n",
       "2     False        False     False                False  0.229178   \n",
       "3      True        False     False                False  0.278585   \n",
       "4      True        False     False                 True  0.382177   \n",
       "\n",
       "   qed_excellent   sascore  sascore_excellent      fsp3  fsp3_excellent  ...  \\\n",
       "0          False  1.891632               True  0.117647           False  ...   \n",
       "1          False  4.020579               True  0.375000           False  ...   \n",
       "2          False  2.504230               True  0.160000           False  ...   \n",
       "3          False  2.224255               True  0.037037           False  ...   \n",
       "4          False  2.345639               True  0.181818           False  ...   \n",
       "\n",
       "   pains_matched_atoms  alarmnmr_accepted      alarmnmr_matched_names  \\\n",
       "0                  [-]               True                         [-]   \n",
       "1                  [-]              False        [[SH], SCS, c1sccc1]   \n",
       "2                  [-]              False                      [C=NN]   \n",
       "3                  [-]              False  [c1ccccc1O, [OH]c1ccccc1N]   \n",
       "4                  [-]               True                         [-]   \n",
       "\n",
       "                              alarmnmr_matched_atoms bms_accepted  \\\n",
       "0                                                [-]        False   \n",
       "1  [((17, 18), (19, 20)), ((16, 17, 18), (20, 19,...         True   \n",
       "2                                  [((16, 17, 18),)]        False   \n",
       "3  [((12, 11, 10, 9, 8, 24, 13), (27, 26, 25, 6, ...         True   \n",
       "4                                                [-]        False   \n",
       "\n",
       "    bms_matched_names                     bms_matched_atoms chelator_accepted  \\\n",
       "0  [alpha_dicarbonyl]                     [((1, 0, 3, 4),)]              True   \n",
       "1                 [-]                                   [-]              True   \n",
       "2  [alpha_dicarbonyl]    [((6, 7, 8, 9), (19, 20, 21, 22))]              True   \n",
       "3                 [-]                                   [-]              True   \n",
       "4  [alpha_dicarbonyl]  [((1, 0, 23, 24), (11, 12, 13, 14))]              True   \n",
       "\n",
       "  chelator_matched_names  chelator_matched_atoms  \n",
       "0                    [-]                     [-]  \n",
       "1                    [-]                     [-]  \n",
       "2                    [-]                     [-]  \n",
       "3                    [-]                     [-]  \n",
       "4                    [-]                     [-]  \n",
       "\n",
       "[5 rows x 25 columns]"
      ]
     },
     "execution_count": 8,
     "metadata": {},
     "output_type": "execute_result"
    }
   ],
   "source": [
    "from medicinal_chemistry import *\n",
    "from medicinal_chemistry import calculate_all, calculate_filters, calculate_ro5_properties\n",
    "data_filter = df['Canomical_smiles'].progress_apply(calculate_all)\n",
    "data_filter.head()"
   ]
  },
  {
   "cell_type": "code",
   "execution_count": 9,
   "id": "d1988454-5637-4fe5-bdee-b8731c74ecaf",
   "metadata": {},
   "outputs": [
    {
     "data": {
      "text/html": [
       "<div>\n",
       "<style scoped>\n",
       "    .dataframe tbody tr th:only-of-type {\n",
       "        vertical-align: middle;\n",
       "    }\n",
       "\n",
       "    .dataframe tbody tr th {\n",
       "        vertical-align: top;\n",
       "    }\n",
       "\n",
       "    .dataframe thead th {\n",
       "        text-align: right;\n",
       "    }\n",
       "</style>\n",
       "<table border=\"1\" class=\"dataframe\">\n",
       "  <thead>\n",
       "    <tr style=\"text-align: right;\">\n",
       "      <th></th>\n",
       "      <th>ID</th>\n",
       "      <th>Canomical_smiles</th>\n",
       "      <th>Activity</th>\n",
       "      <th>Canomicalsmiles</th>\n",
       "      <th>ro5_rule</th>\n",
       "      <th>pfizer_rule</th>\n",
       "      <th>gsk_rule</th>\n",
       "      <th>goldentriangle_rule</th>\n",
       "      <th>qed</th>\n",
       "      <th>qed_excellent</th>\n",
       "      <th>...</th>\n",
       "      <th>pains_matched_atoms</th>\n",
       "      <th>alarmnmr_accepted</th>\n",
       "      <th>alarmnmr_matched_names</th>\n",
       "      <th>alarmnmr_matched_atoms</th>\n",
       "      <th>bms_accepted</th>\n",
       "      <th>bms_matched_names</th>\n",
       "      <th>bms_matched_atoms</th>\n",
       "      <th>chelator_accepted</th>\n",
       "      <th>chelator_matched_names</th>\n",
       "      <th>chelator_matched_atoms</th>\n",
       "    </tr>\n",
       "  </thead>\n",
       "  <tbody>\n",
       "    <tr>\n",
       "      <th>0</th>\n",
       "      <td>CHEMBL19464</td>\n",
       "      <td>O=C(O)C(=O)CC(=O)c1cccc(Cc2ccccc2)c1</td>\n",
       "      <td>8.00</td>\n",
       "      <td>O=C(O)C(=O)CC(=O)c1cccc(Cc2ccccc2)c1</td>\n",
       "      <td>True</td>\n",
       "      <td>False</td>\n",
       "      <td>True</td>\n",
       "      <td>True</td>\n",
       "      <td>0.501767</td>\n",
       "      <td>False</td>\n",
       "      <td>...</td>\n",
       "      <td>[-]</td>\n",
       "      <td>True</td>\n",
       "      <td>[-]</td>\n",
       "      <td>[-]</td>\n",
       "      <td>False</td>\n",
       "      <td>[alpha_dicarbonyl]</td>\n",
       "      <td>[((1, 0, 3, 4),)]</td>\n",
       "      <td>True</td>\n",
       "      <td>[-]</td>\n",
       "      <td>[-]</td>\n",
       "    </tr>\n",
       "    <tr>\n",
       "      <th>1</th>\n",
       "      <td>CHEMBL193783</td>\n",
       "      <td>CCc1cc(/C=N/CC/N=C/c2cc(CC)sc2S)c(S)s1</td>\n",
       "      <td>5.22</td>\n",
       "      <td>CCc1cc(/C=N/CC/N=C/c2cc(CC)sc2S)c(S)s1</td>\n",
       "      <td>True</td>\n",
       "      <td>True</td>\n",
       "      <td>False</td>\n",
       "      <td>False</td>\n",
       "      <td>0.388315</td>\n",
       "      <td>False</td>\n",
       "      <td>...</td>\n",
       "      <td>[-]</td>\n",
       "      <td>False</td>\n",
       "      <td>[[SH], SCS, c1sccc1]</td>\n",
       "      <td>[((17, 18), (19, 20)), ((16, 17, 18), (20, 19,...</td>\n",
       "      <td>True</td>\n",
       "      <td>[-]</td>\n",
       "      <td>[-]</td>\n",
       "      <td>True</td>\n",
       "      <td>[-]</td>\n",
       "      <td>[-]</td>\n",
       "    </tr>\n",
       "    <tr>\n",
       "      <th>2</th>\n",
       "      <td>CHEMBL191854</td>\n",
       "      <td>Cc1ccc(NC(=O)C(=O)NCc2ccc(/C=N\\NC(=O)C(=O)Nc3c...</td>\n",
       "      <td>4.16</td>\n",
       "      <td>Cc1ccc(NC(=O)C(=O)NCc2ccc(/C=N\\NC(=O)C(=O)Nc3c...</td>\n",
       "      <td>False</td>\n",
       "      <td>False</td>\n",
       "      <td>False</td>\n",
       "      <td>False</td>\n",
       "      <td>0.229178</td>\n",
       "      <td>False</td>\n",
       "      <td>...</td>\n",
       "      <td>[-]</td>\n",
       "      <td>False</td>\n",
       "      <td>[C=NN]</td>\n",
       "      <td>[((16, 17, 18),)]</td>\n",
       "      <td>False</td>\n",
       "      <td>[alpha_dicarbonyl]</td>\n",
       "      <td>[((6, 7, 8, 9), (19, 20, 21, 22))]</td>\n",
       "      <td>True</td>\n",
       "      <td>[-]</td>\n",
       "      <td>[-]</td>\n",
       "    </tr>\n",
       "    <tr>\n",
       "      <th>3</th>\n",
       "      <td>CHEMBL195104</td>\n",
       "      <td>O=C(Nc1ccc(Cc2ccc(O)c(NC(=O)c3ccccc3F)c2)cc1O)...</td>\n",
       "      <td>4.48</td>\n",
       "      <td>O=C(Nc1ccc(Cc2ccc(O)c(NC(=O)c3ccccc3F)c2)cc1O)...</td>\n",
       "      <td>True</td>\n",
       "      <td>False</td>\n",
       "      <td>False</td>\n",
       "      <td>False</td>\n",
       "      <td>0.278585</td>\n",
       "      <td>False</td>\n",
       "      <td>...</td>\n",
       "      <td>[-]</td>\n",
       "      <td>False</td>\n",
       "      <td>[c1ccccc1O, [OH]c1ccccc1N]</td>\n",
       "      <td>[((12, 11, 10, 9, 8, 24, 13), (27, 26, 25, 6, ...</td>\n",
       "      <td>True</td>\n",
       "      <td>[-]</td>\n",
       "      <td>[-]</td>\n",
       "      <td>True</td>\n",
       "      <td>[-]</td>\n",
       "      <td>[-]</td>\n",
       "    </tr>\n",
       "    <tr>\n",
       "      <th>4</th>\n",
       "      <td>CHEMBL195166</td>\n",
       "      <td>O=C(NCc1cccc(CNC(=O)C(=O)NCc2ccco2)c1)C(=O)NCc...</td>\n",
       "      <td>4.40</td>\n",
       "      <td>O=C(NCc1cccc(CNC(=O)C(=O)NCc2ccco2)c1)C(=O)NCc...</td>\n",
       "      <td>True</td>\n",
       "      <td>False</td>\n",
       "      <td>False</td>\n",
       "      <td>True</td>\n",
       "      <td>0.382177</td>\n",
       "      <td>False</td>\n",
       "      <td>...</td>\n",
       "      <td>[-]</td>\n",
       "      <td>True</td>\n",
       "      <td>[-]</td>\n",
       "      <td>[-]</td>\n",
       "      <td>False</td>\n",
       "      <td>[alpha_dicarbonyl]</td>\n",
       "      <td>[((1, 0, 23, 24), (11, 12, 13, 14))]</td>\n",
       "      <td>True</td>\n",
       "      <td>[-]</td>\n",
       "      <td>[-]</td>\n",
       "    </tr>\n",
       "  </tbody>\n",
       "</table>\n",
       "<p>5 rows × 29 columns</p>\n",
       "</div>"
      ],
      "text/plain": [
       "             ID                                   Canomical_smiles  Activity  \\\n",
       "0   CHEMBL19464               O=C(O)C(=O)CC(=O)c1cccc(Cc2ccccc2)c1      8.00   \n",
       "1  CHEMBL193783             CCc1cc(/C=N/CC/N=C/c2cc(CC)sc2S)c(S)s1      5.22   \n",
       "2  CHEMBL191854  Cc1ccc(NC(=O)C(=O)NCc2ccc(/C=N\\NC(=O)C(=O)Nc3c...      4.16   \n",
       "3  CHEMBL195104  O=C(Nc1ccc(Cc2ccc(O)c(NC(=O)c3ccccc3F)c2)cc1O)...      4.48   \n",
       "4  CHEMBL195166  O=C(NCc1cccc(CNC(=O)C(=O)NCc2ccco2)c1)C(=O)NCc...      4.40   \n",
       "\n",
       "                                     Canomicalsmiles  ro5_rule  pfizer_rule  \\\n",
       "0               O=C(O)C(=O)CC(=O)c1cccc(Cc2ccccc2)c1      True        False   \n",
       "1             CCc1cc(/C=N/CC/N=C/c2cc(CC)sc2S)c(S)s1      True         True   \n",
       "2  Cc1ccc(NC(=O)C(=O)NCc2ccc(/C=N\\NC(=O)C(=O)Nc3c...     False        False   \n",
       "3  O=C(Nc1ccc(Cc2ccc(O)c(NC(=O)c3ccccc3F)c2)cc1O)...      True        False   \n",
       "4  O=C(NCc1cccc(CNC(=O)C(=O)NCc2ccco2)c1)C(=O)NCc...      True        False   \n",
       "\n",
       "   gsk_rule  goldentriangle_rule       qed  qed_excellent  ...  \\\n",
       "0      True                 True  0.501767          False  ...   \n",
       "1     False                False  0.388315          False  ...   \n",
       "2     False                False  0.229178          False  ...   \n",
       "3     False                False  0.278585          False  ...   \n",
       "4     False                 True  0.382177          False  ...   \n",
       "\n",
       "   pains_matched_atoms  alarmnmr_accepted      alarmnmr_matched_names  \\\n",
       "0                  [-]               True                         [-]   \n",
       "1                  [-]              False        [[SH], SCS, c1sccc1]   \n",
       "2                  [-]              False                      [C=NN]   \n",
       "3                  [-]              False  [c1ccccc1O, [OH]c1ccccc1N]   \n",
       "4                  [-]               True                         [-]   \n",
       "\n",
       "                              alarmnmr_matched_atoms  bms_accepted  \\\n",
       "0                                                [-]         False   \n",
       "1  [((17, 18), (19, 20)), ((16, 17, 18), (20, 19,...          True   \n",
       "2                                  [((16, 17, 18),)]         False   \n",
       "3  [((12, 11, 10, 9, 8, 24, 13), (27, 26, 25, 6, ...          True   \n",
       "4                                                [-]         False   \n",
       "\n",
       "    bms_matched_names                     bms_matched_atoms  \\\n",
       "0  [alpha_dicarbonyl]                     [((1, 0, 3, 4),)]   \n",
       "1                 [-]                                   [-]   \n",
       "2  [alpha_dicarbonyl]    [((6, 7, 8, 9), (19, 20, 21, 22))]   \n",
       "3                 [-]                                   [-]   \n",
       "4  [alpha_dicarbonyl]  [((1, 0, 23, 24), (11, 12, 13, 14))]   \n",
       "\n",
       "   chelator_accepted chelator_matched_names chelator_matched_atoms  \n",
       "0               True                    [-]                    [-]  \n",
       "1               True                    [-]                    [-]  \n",
       "2               True                    [-]                    [-]  \n",
       "3               True                    [-]                    [-]  \n",
       "4               True                    [-]                    [-]  \n",
       "\n",
       "[5 rows x 29 columns]"
      ]
     },
     "execution_count": 9,
     "metadata": {},
     "output_type": "execute_result"
    }
   ],
   "source": [
    "data = pd.concat([df, data_filter], axis = 1)\n",
    "data.head()"
   ]
  },
  {
   "cell_type": "markdown",
   "id": "35d8b7c3-8173-4e52-880b-d7b441e02a3e",
   "metadata": {},
   "source": [
    "# 3. Featurizer"
   ]
  },
  {
   "cell_type": "code",
   "execution_count": 4,
   "id": "21fb583d-e796-4a11-a9dc-59abdba93080",
   "metadata": {},
   "outputs": [
    {
     "name": "stderr",
     "output_type": "stream",
     "text": [
      "reading NP model ...\n",
      "model in\n"
     ]
    }
   ],
   "source": [
    "from Featurizer import Featurize"
   ]
  },
  {
   "cell_type": "code",
   "execution_count": 5,
   "id": "d633d291-7347-4342-9e4e-4d7ef4307de4",
   "metadata": {},
   "outputs": [
    {
     "name": "stdout",
     "output_type": "stream",
     "text": [
      "STANDARDIZING MOLECULES...\n"
     ]
    },
    {
     "data": {
      "application/vnd.jupyter.widget-view+json": {
       "model_id": "2a90ae6c8846436aa97a0d3d0d239f97",
       "version_major": 2,
       "version_minor": 0
      },
      "text/plain": [
       "  0%|          | 0/2445 [00:00<?, ?it/s]"
      ]
     },
     "metadata": {},
     "output_type": "display_data"
    },
    {
     "data": {
      "application/vnd.jupyter.widget-view+json": {
       "model_id": "a2f12540eb884b8f97671c912bda3718",
       "version_major": 2,
       "version_minor": 0
      },
      "text/plain": [
       "  0%|          | 0/2377 [00:00<?, ?it/s]"
      ]
     },
     "metadata": {},
     "output_type": "display_data"
    },
    {
     "name": "stdout",
     "output_type": "stream",
     "text": [
      "CALCULATING RDK5 FINGERPRINTS...\n"
     ]
    },
    {
     "data": {
      "application/vnd.jupyter.widget-view+json": {
       "model_id": "2c2d3ed823b44d00973456bd1d1f582d",
       "version_major": 2,
       "version_minor": 0
      },
      "text/plain": [
       "  0%|          | 0/2377 [00:00<?, ?it/s]"
      ]
     },
     "metadata": {},
     "output_type": "display_data"
    },
    {
     "name": "stdout",
     "output_type": "stream",
     "text": [
      "CALCULATING RDK6 FINGERPRINTS...\n"
     ]
    },
    {
     "data": {
      "application/vnd.jupyter.widget-view+json": {
       "model_id": "cbb813c01abc48d399f185ee306366cf",
       "version_major": 2,
       "version_minor": 0
      },
      "text/plain": [
       "  0%|          | 0/2377 [00:00<?, ?it/s]"
      ]
     },
     "metadata": {},
     "output_type": "display_data"
    },
    {
     "name": "stdout",
     "output_type": "stream",
     "text": [
      "CALCULATING RDK7 FINGERPRINTS...\n"
     ]
    },
    {
     "data": {
      "application/vnd.jupyter.widget-view+json": {
       "model_id": "b8f136b3e80744a7a28bdb8d03975928",
       "version_major": 2,
       "version_minor": 0
      },
      "text/plain": [
       "  0%|          | 0/2377 [00:00<?, ?it/s]"
      ]
     },
     "metadata": {},
     "output_type": "display_data"
    },
    {
     "name": "stdout",
     "output_type": "stream",
     "text": [
      "CALCULATING ECFP2 FINGERPRINTS...\n"
     ]
    },
    {
     "data": {
      "application/vnd.jupyter.widget-view+json": {
       "model_id": "baa5e9981ea945379dce4d8aed895e24",
       "version_major": 2,
       "version_minor": 0
      },
      "text/plain": [
       "  0%|          | 0/2377 [00:00<?, ?it/s]"
      ]
     },
     "metadata": {},
     "output_type": "display_data"
    },
    {
     "name": "stdout",
     "output_type": "stream",
     "text": [
      "CALCULATING ECFP4 FINGERPRINTS...\n"
     ]
    },
    {
     "data": {
      "application/vnd.jupyter.widget-view+json": {
       "model_id": "1ccfb6d237e546d392e587fc9e77cb30",
       "version_major": 2,
       "version_minor": 0
      },
      "text/plain": [
       "  0%|          | 0/2377 [00:00<?, ?it/s]"
      ]
     },
     "metadata": {},
     "output_type": "display_data"
    },
    {
     "name": "stdout",
     "output_type": "stream",
     "text": [
      "CALCULATING ECFP6 FINGERPRINTS...\n"
     ]
    },
    {
     "data": {
      "application/vnd.jupyter.widget-view+json": {
       "model_id": "e4db0335294b4de783edf9d3e46b1bb5",
       "version_major": 2,
       "version_minor": 0
      },
      "text/plain": [
       "  0%|          | 0/2377 [00:00<?, ?it/s]"
      ]
     },
     "metadata": {},
     "output_type": "display_data"
    },
    {
     "name": "stdout",
     "output_type": "stream",
     "text": [
      "CALCULATING MACCs FINGERPRINTS...\n"
     ]
    },
    {
     "data": {
      "application/vnd.jupyter.widget-view+json": {
       "model_id": "7c5e200b399048d29584349caccf0d25",
       "version_major": 2,
       "version_minor": 0
      },
      "text/plain": [
       "  0%|          | 0/2377 [00:00<?, ?it/s]"
      ]
     },
     "metadata": {},
     "output_type": "display_data"
    },
    {
     "name": "stdout",
     "output_type": "stream",
     "text": [
      "CALCULATING AVALON FINGERPRINTS...\n"
     ]
    },
    {
     "data": {
      "application/vnd.jupyter.widget-view+json": {
       "model_id": "97121a924c174e4fbb4862e0b7cc29eb",
       "version_major": 2,
       "version_minor": 0
      },
      "text/plain": [
       "  0%|          | 0/2377 [00:00<?, ?it/s]"
      ]
     },
     "metadata": {},
     "output_type": "display_data"
    },
    {
     "name": "stdout",
     "output_type": "stream",
     "text": [
      "CALCULATING PUBCHEM FINGERPRINTS...\n"
     ]
    },
    {
     "data": {
      "application/vnd.jupyter.widget-view+json": {
       "model_id": "08db47f881d840bbb11df97996429327",
       "version_major": 2,
       "version_minor": 0
      },
      "text/plain": [
       "  0%|          | 0/2377 [00:00<?, ?it/s]"
      ]
     },
     "metadata": {},
     "output_type": "display_data"
    },
    {
     "name": "stdout",
     "output_type": "stream",
     "text": [
      "CALCULATING MAP4 FINGERPRINTS...\n"
     ]
    },
    {
     "data": {
      "application/vnd.jupyter.widget-view+json": {
       "model_id": "02674ca44ce74788ab988e8c5eb555b3",
       "version_major": 2,
       "version_minor": 0
      },
      "text/plain": [
       "  0%|          | 0/2377 [00:00<?, ?it/s]"
      ]
     },
     "metadata": {},
     "output_type": "display_data"
    },
    {
     "name": "stdout",
     "output_type": "stream",
     "text": [
      "CALCULATING SECFP FINGERPRINTS...\n"
     ]
    },
    {
     "data": {
      "application/vnd.jupyter.widget-view+json": {
       "model_id": "e885d772b41a47aebcfbdf30534f2cc7",
       "version_major": 2,
       "version_minor": 0
      },
      "text/plain": [
       "  0%|          | 0/2377 [00:00<?, ?it/s]"
      ]
     },
     "metadata": {},
     "output_type": "display_data"
    },
    {
     "name": "stdout",
     "output_type": "stream",
     "text": [
      "CALCULATING PHARMACOPHORE GOBBI FINGERPRINTS...\n"
     ]
    },
    {
     "data": {
      "application/vnd.jupyter.widget-view+json": {
       "model_id": "42492ac8998c4b5f9a103f6f68eca8a5",
       "version_major": 2,
       "version_minor": 0
      },
      "text/plain": [
       "  0%|          | 0/2377 [00:00<?, ?it/s]"
      ]
     },
     "metadata": {},
     "output_type": "display_data"
    },
    {
     "name": "stdout",
     "output_type": "stream",
     "text": [
      "CALCULATING PHARMACOPHORE CATS2D FINGERPRINTS...\n"
     ]
    },
    {
     "data": {
      "application/vnd.jupyter.widget-view+json": {
       "model_id": "09bd69759da44c1ea84745ca5799d029",
       "version_major": 2,
       "version_minor": 0
      },
      "text/plain": [
       "  0%|          | 0/2377 [00:00<?, ?it/s]"
      ]
     },
     "metadata": {},
     "output_type": "display_data"
    },
    {
     "name": "stdout",
     "output_type": "stream",
     "text": [
      "CALCULATING RDKit descriptors...\n"
     ]
    },
    {
     "data": {
      "application/vnd.jupyter.widget-view+json": {
       "model_id": "ce7ec6b3c1f546739f98a8d4947a66cb",
       "version_major": 2,
       "version_minor": 0
      },
      "text/plain": [
       "  0%|          | 0/2377 [00:00<?, ?it/s]"
      ]
     },
     "metadata": {},
     "output_type": "display_data"
    },
    {
     "name": "stdout",
     "output_type": "stream",
     "text": [
      "CALCULATING Mordred descriptors...\n"
     ]
    },
    {
     "name": "stderr",
     "output_type": "stream",
     "text": [
      "100%|███████████████████████████████████████| 2377/2377 [01:48<00:00, 21.97it/s]\n"
     ]
    },
    {
     "name": "stdout",
     "output_type": "stream",
     "text": [
      "CALCULATING Mol2vec...\n"
     ]
    },
    {
     "data": {
      "application/vnd.jupyter.widget-view+json": {
       "model_id": "005085d52c0241f6a14b4e0c43d52064",
       "version_major": 2,
       "version_minor": 0
      },
      "text/plain": [
       "  0%|          | 0/2377 [00:00<?, ?it/s]"
      ]
     },
     "metadata": {},
     "output_type": "display_data"
    },
    {
     "name": "stdout",
     "output_type": "stream",
     "text": [
      "FINISH CALCULATING!\n"
     ]
    }
   ],
   "source": [
    "import warnings\n",
    "warnings.filterwarnings(action='ignore')\n",
    "data_name = ['HIV_integrase']\n",
    "\n",
    "\n",
    "df = pd.read_csv('HIV_integrase.csv')\n",
    "    #display(df.head(2))\n",
    "folder = str('./HIV_integrase')\n",
    "isExist = os.path.exists(folder)\n",
    "if not isExist:\n",
    "    os.makedirs(folder)\n",
    "save_dir = folder+'/'\n",
    "fp = Featurize(data=df, smile_col='Canomical_smiles', activity_col='Activity', \n",
    "            ID='ID', save_dir=save_dir, m2v_path = '../model_300dim.pkl', standardize = True)\n",
    "fp.Apply()"
   ]
  },
  {
   "cell_type": "code",
   "execution_count": 5,
   "id": "82b64e25-8cb4-4115-b064-d292a962ce6c",
   "metadata": {},
   "outputs": [
    {
     "data": {
      "text/plain": [
       "'/home/labhhc/Documents/Project/CADD_package/MolecularClustering/ultility/Test'"
      ]
     },
     "execution_count": 5,
     "metadata": {},
     "output_type": "execute_result"
    }
   ],
   "source": [
    "%pwd"
   ]
  },
  {
   "cell_type": "code",
   "execution_count": null,
   "id": "f5a6323d-bafa-45bf-ae6b-ac576a4b1be9",
   "metadata": {},
   "outputs": [],
   "source": []
  }
 ],
 "metadata": {
  "kernelspec": {
   "display_name": "Python 3 (ipykernel)",
   "language": "python",
   "name": "python3"
  },
  "language_info": {
   "codemirror_mode": {
    "name": "ipython",
    "version": 3
   },
   "file_extension": ".py",
   "mimetype": "text/x-python",
   "name": "python",
   "nbconvert_exporter": "python",
   "pygments_lexer": "ipython3",
   "version": "3.9.16"
  }
 },
 "nbformat": 4,
 "nbformat_minor": 5
}
